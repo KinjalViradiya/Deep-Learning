{
 "cells": [
  {
   "cell_type": "markdown",
   "metadata": {},
   "source": [
    "# Narendra Modi vs Rahul Gandhi Recognizer¶\n",
    "Structure your datasets into a directory structure like this,<br>\n",
    "\n",
    "replace the `class_A` and `class_B` names with whatever you want to show your CNN model as the y-label<br>\n",
    "\n",
    "dataset:\n",
    "    - training_set\n",
    "            - class_A\n",
    "            - class_B\n",
    "    - test_set\n",
    "            - class_A\n",
    "            - class_B\n"
   ]
  },
  {
   "cell_type": "code",
   "execution_count": 1,
   "metadata": {},
   "outputs": [
    {
     "name": "stderr",
     "output_type": "stream",
     "text": [
      "Using TensorFlow backend.\n"
     ]
    }
   ],
   "source": [
    "from keras.models import Sequential"
   ]
  },
  {
   "cell_type": "code",
   "execution_count": 1,
   "metadata": {},
   "outputs": [
    {
     "name": "stderr",
     "output_type": "stream",
     "text": [
      "Using TensorFlow backend.\n"
     ]
    }
   ],
   "source": [
    "from keras.layers import Dense\n",
    "from keras.layers import Conv2D,MaxPool2D,Flatten\n",
    "import numpy as np\n",
    "from keras.preprocessing.image import ImageDataGenerator"
   ]
  },
  {
   "cell_type": "markdown",
   "metadata": {},
   "source": [
    "**building the CNN**"
   ]
  },
  {
   "cell_type": "code",
   "execution_count": 15,
   "metadata": {},
   "outputs": [
    {
     "name": "stderr",
     "output_type": "stream",
     "text": [
      "W0904 21:44:11.843930 12504 deprecation_wrapper.py:119] From C:\\Users\\KINJAL\\.conda\\envs\\py3\\lib\\site-packages\\keras\\backend\\tensorflow_backend.py:517: The name tf.placeholder is deprecated. Please use tf.compat.v1.placeholder instead.\n",
      "\n",
      "W0904 21:44:12.166700 12504 deprecation_wrapper.py:119] From C:\\Users\\KINJAL\\.conda\\envs\\py3\\lib\\site-packages\\keras\\backend\\tensorflow_backend.py:4138: The name tf.random_uniform is deprecated. Please use tf.random.uniform instead.\n",
      "\n"
     ]
    }
   ],
   "source": [
    "classifier= Sequential()\n",
    "# convolution layer-32 feature detectors of 3X3 shape plus a rectifier on top of our convolved feature map\n",
    "classifier.add(Conv2D(32,(3,3),input_shape=(64,64,3),activation='relu'))"
   ]
  },
  {
   "cell_type": "code",
   "execution_count": 17,
   "metadata": {},
   "outputs": [],
   "source": [
    "# max pooling of 2x2 shape\n",
    "classifier.add(MaxPool2D(pool_size=(2,2)))\n",
    "\n",
    "# another convolution layer\n",
    "classifier.add(Conv2D(32,(3,3),activation='relu'))\n",
    "\n",
    "# max pooling of 2x2 shape\n",
    "classifier.add(MaxPool2D(pool_size=(2,2)))\n",
    "\n",
    "#Flattening layer\n",
    "classifier.add(Flatten())\n",
    "\n",
    "# fully connected layer\n",
    "classifier.add(Dense(units=128,activation='relu'))\n",
    "\n",
    "# output layer\n",
    "classifier.add(Dense(units=1,activation='sigmoid'))\n"
   ]
  },
  {
   "cell_type": "markdown",
   "metadata": {},
   "source": [
    "**compiling the CNN**"
   ]
  },
  {
   "cell_type": "code",
   "execution_count": 20,
   "metadata": {},
   "outputs": [],
   "source": [
    "classifier.compile(optimizer='adam',loss='binary_crossentropy',metrics=['accuracy'])"
   ]
  },
  {
   "cell_type": "markdown",
   "metadata": {},
   "source": [
    "**Image Augmentation**\n",
    "\n",
    "using Keras' ImageDataGenerator-shearing,zooming,horizontally,flipping"
   ]
  },
  {
   "cell_type": "code",
   "execution_count": 25,
   "metadata": {},
   "outputs": [
    {
     "name": "stdout",
     "output_type": "stream",
     "text": [
      "Found 40 images belonging to 2 classes.\n",
      "Found 8 images belonging to 2 classes.\n"
     ]
    }
   ],
   "source": [
    "train_datagen=ImageDataGenerator(rescale=1./125,shear_range=0.2,zoom_range=0.2,horizontal_flip=True)\n",
    "test_datagen=ImageDataGenerator(rescale=1./255)\n",
    "training_set=train_datagen.flow_from_directory(\"dataset/Modi_vs_Pappu/training set\",\n",
    "                                                target_size=(64,64),\n",
    "                                                 batch_size=32,\n",
    "                                                 class_mode='binary'   \n",
    "                                                )\n",
    "testing_set=test_datagen.flow_from_directory(\"dataset/Modi_vs_Pappu/test set\",\n",
    "                                            target_size=(64,64),\n",
    "                                                 batch_size=32,\n",
    "                                                 class_mode='binary'   \n",
    "                                                )"
   ]
  },
  {
   "cell_type": "markdown",
   "metadata": {},
   "source": [
    "**how to save the best weight of your model while its training**"
   ]
  },
  {
   "cell_type": "code",
   "execution_count": 33,
   "metadata": {},
   "outputs": [],
   "source": [
    "#by creating checkpoint\n",
    "\n",
    "from keras.callbacks import ModelCheckpoint\n",
    "filepath=\"dataset/Modi_vs_Pappu/Save/weights-improvement-{epoch:02d}-{loss: .4f}.hdf5\"\n",
    "checkpoint=ModelCheckpoint(filepath,monitor='loss',verbose=1,save_best_only=True,mode='min')\n",
    "callbacks_list=[checkpoint]"
   ]
  },
  {
   "cell_type": "markdown",
   "metadata": {},
   "source": [
    "**training our CNN**"
   ]
  },
  {
   "cell_type": "code",
   "execution_count": 34,
   "metadata": {},
   "outputs": [
    {
     "name": "stdout",
     "output_type": "stream",
     "text": [
      "Epoch 1/100\n",
      "20/20 [==============================] - 2s 98ms/step - loss: 3.6780e-05 - acc: 1.0000 - val_loss: 3.8210 - val_acc: 0.5000\n",
      "\n",
      "Epoch 00001: loss improved from inf to 0.00004, saving model to dataset/Modi_vs_Pappu/Save/weights-improvement-01- 0.0000.hdf5\n",
      "Epoch 2/100\n",
      "20/20 [==============================] - 2s 106ms/step - loss: 2.6550e-05 - acc: 1.0000 - val_loss: 3.7438 - val_acc: 0.5000\n",
      "\n",
      "Epoch 00002: loss improved from 0.00004 to 0.00003, saving model to dataset/Modi_vs_Pappu/Save/weights-improvement-02- 0.0000.hdf5\n",
      "Epoch 3/100\n",
      "20/20 [==============================] - 2s 94ms/step - loss: 2.4921e-05 - acc: 1.0000 - val_loss: 3.7803 - val_acc: 0.5000\n",
      "\n",
      "Epoch 00003: loss improved from 0.00003 to 0.00002, saving model to dataset/Modi_vs_Pappu/Save/weights-improvement-03- 0.0000.hdf5\n",
      "Epoch 4/100\n",
      "20/20 [==============================] - 2s 98ms/step - loss: 3.7263e-05 - acc: 1.0000 - val_loss: 3.8721 - val_acc: 0.5000\n",
      "\n",
      "Epoch 00004: loss did not improve from 0.00002\n",
      "Epoch 5/100\n",
      "20/20 [==============================] - 2s 98ms/step - loss: 7.5306e-05 - acc: 1.0000 - val_loss: 3.6983 - val_acc: 0.5000\n",
      "\n",
      "Epoch 00005: loss did not improve from 0.00002\n",
      "Epoch 6/100\n",
      "20/20 [==============================] - 2s 88ms/step - loss: 1.0738e-04 - acc: 1.0000 - val_loss: 4.2500 - val_acc: 0.5000\n",
      "\n",
      "Epoch 00006: loss did not improve from 0.00002\n",
      "Epoch 7/100\n",
      "20/20 [==============================] - 2s 93ms/step - loss: 1.0238e-04 - acc: 1.0000 - val_loss: 3.8643 - val_acc: 0.5000\n",
      "\n",
      "Epoch 00007: loss did not improve from 0.00002\n",
      "Epoch 8/100\n",
      "20/20 [==============================] - 2s 96ms/step - loss: 2.6642e-05 - acc: 1.0000 - val_loss: 3.7673 - val_acc: 0.5000\n",
      "\n",
      "Epoch 00008: loss did not improve from 0.00002\n",
      "Epoch 9/100\n",
      "20/20 [==============================] - 2s 109ms/step - loss: 4.4339e-05 - acc: 1.0000 - val_loss: 3.7633 - val_acc: 0.5000\n",
      "\n",
      "Epoch 00009: loss did not improve from 0.00002\n",
      "Epoch 10/100\n",
      "20/20 [==============================] - 2s 97ms/step - loss: 1.8718e-05 - acc: 1.0000 - val_loss: 3.7969 - val_acc: 0.5000\n",
      "\n",
      "Epoch 00010: loss did not improve from 0.00002\n",
      "Epoch 11/100\n",
      "20/20 [==============================] - 2s 88ms/step - loss: 3.1392e-05 - acc: 1.0000 - val_loss: 3.8630 - val_acc: 0.5000\n",
      "\n",
      "Epoch 00011: loss did not improve from 0.00002\n",
      "Epoch 12/100\n",
      "20/20 [==============================] - 2s 94ms/step - loss: 2.3245e-05 - acc: 1.0000 - val_loss: 3.9105 - val_acc: 0.5000\n",
      "\n",
      "Epoch 00012: loss did not improve from 0.00002\n",
      "Epoch 13/100\n",
      "20/20 [==============================] - 2s 91ms/step - loss: 1.6310e-05 - acc: 1.0000 - val_loss: 3.9214 - val_acc: 0.5000\n",
      "\n",
      "Epoch 00013: loss improved from 0.00002 to 0.00002, saving model to dataset/Modi_vs_Pappu/Save/weights-improvement-13- 0.0000.hdf5\n",
      "Epoch 14/100\n",
      "20/20 [==============================] - 2s 91ms/step - loss: 1.4171e-05 - acc: 1.0000 - val_loss: 3.8933 - val_acc: 0.5000\n",
      "\n",
      "Epoch 00014: loss improved from 0.00002 to 0.00001, saving model to dataset/Modi_vs_Pappu/Save/weights-improvement-14- 0.0000.hdf5\n",
      "Epoch 15/100\n",
      "20/20 [==============================] - 2s 91ms/step - loss: 4.0804e-05 - acc: 1.0000 - val_loss: 4.0593 - val_acc: 0.5000\n",
      "\n",
      "Epoch 00015: loss did not improve from 0.00001\n",
      "Epoch 16/100\n",
      "20/20 [==============================] - 2s 92ms/step - loss: 0.2820 - acc: 0.9352 - val_loss: 0.8598 - val_acc: 0.6250\n",
      "\n",
      "Epoch 00016: loss did not improve from 0.00001\n",
      "Epoch 17/100\n",
      "20/20 [==============================] - 2s 94ms/step - loss: 0.1004 - acc: 0.9600 - val_loss: 1.2676 - val_acc: 0.5000\n",
      "\n",
      "Epoch 00017: loss did not improve from 0.00001\n",
      "Epoch 18/100\n",
      "20/20 [==============================] - 2s 87ms/step - loss: 0.0123 - acc: 0.9984 - val_loss: 1.3658 - val_acc: 0.5000\n",
      "\n",
      "Epoch 00018: loss did not improve from 0.00001\n",
      "Epoch 19/100\n",
      "20/20 [==============================] - 2s 98ms/step - loss: 0.0015 - acc: 1.0000 - val_loss: 1.5603 - val_acc: 0.5000\n",
      "\n",
      "Epoch 00019: loss did not improve from 0.00001\n",
      "Epoch 20/100\n",
      "20/20 [==============================] - 2s 90ms/step - loss: 0.0021 - acc: 1.0000 - val_loss: 1.7188 - val_acc: 0.5000\n",
      "\n",
      "Epoch 00020: loss did not improve from 0.00001\n",
      "Epoch 21/100\n",
      "20/20 [==============================] - 2s 87ms/step - loss: 0.0013 - acc: 1.0000 - val_loss: 1.1185 - val_acc: 0.6250\n",
      "\n",
      "Epoch 00021: loss did not improve from 0.00001\n",
      "Epoch 22/100\n",
      "20/20 [==============================] - 2s 93ms/step - loss: 0.0012 - acc: 1.0000 - val_loss: 1.9289 - val_acc: 0.5000\n",
      "\n",
      "Epoch 00022: loss did not improve from 0.00001\n",
      "Epoch 23/100\n",
      "20/20 [==============================] - 2s 91ms/step - loss: 6.5566e-04 - acc: 1.0000 - val_loss: 1.5620 - val_acc: 0.5000\n",
      "\n",
      "Epoch 00023: loss did not improve from 0.00001\n",
      "Epoch 24/100\n",
      "20/20 [==============================] - 2s 94ms/step - loss: 3.4530e-04 - acc: 1.0000 - val_loss: 1.5448 - val_acc: 0.5000\n",
      "\n",
      "Epoch 00024: loss did not improve from 0.00001\n",
      "Epoch 25/100\n",
      "20/20 [==============================] - 2s 91ms/step - loss: 4.7988e-04 - acc: 1.0000 - val_loss: 1.7953 - val_acc: 0.5000\n",
      "\n",
      "Epoch 00025: loss did not improve from 0.00001\n",
      "Epoch 26/100\n",
      "20/20 [==============================] - 2s 88ms/step - loss: 2.8389e-04 - acc: 1.0000 - val_loss: 1.6181 - val_acc: 0.5000\n",
      "\n",
      "Epoch 00026: loss did not improve from 0.00001\n",
      "Epoch 27/100\n",
      "20/20 [==============================] - 2s 91ms/step - loss: 2.4590e-04 - acc: 1.0000 - val_loss: 1.6596 - val_acc: 0.5000\n",
      "\n",
      "Epoch 00027: loss did not improve from 0.00001\n",
      "Epoch 28/100\n",
      "20/20 [==============================] - 2s 93ms/step - loss: 2.2699e-04 - acc: 1.0000 - val_loss: 1.6477 - val_acc: 0.5000\n",
      "\n",
      "Epoch 00028: loss did not improve from 0.00001\n",
      "Epoch 29/100\n",
      "20/20 [==============================] - 2s 87ms/step - loss: 2.1807e-04 - acc: 1.0000 - val_loss: 1.6702 - val_acc: 0.5000\n",
      "\n",
      "Epoch 00029: loss did not improve from 0.00001\n",
      "Epoch 30/100\n",
      "20/20 [==============================] - 2s 92ms/step - loss: 1.6592e-04 - acc: 1.0000 - val_loss: 1.7133 - val_acc: 0.5000\n",
      "\n",
      "Epoch 00030: loss did not improve from 0.00001\n",
      "Epoch 31/100\n",
      "20/20 [==============================] - 2s 92ms/step - loss: 1.8533e-04 - acc: 1.0000 - val_loss: 1.8410 - val_acc: 0.5000\n",
      "\n",
      "Epoch 00031: loss did not improve from 0.00001\n",
      "Epoch 32/100\n",
      "20/20 [==============================] - 2s 93ms/step - loss: 2.8208e-04 - acc: 1.0000 - val_loss: 1.7859 - val_acc: 0.5000\n",
      "\n",
      "Epoch 00032: loss did not improve from 0.00001\n",
      "Epoch 33/100\n",
      "20/20 [==============================] - 2s 85ms/step - loss: 9.0819e-05 - acc: 1.0000 - val_loss: 1.6849 - val_acc: 0.5000\n",
      "\n",
      "Epoch 00033: loss did not improve from 0.00001\n",
      "Epoch 34/100\n",
      "20/20 [==============================] - 2s 92ms/step - loss: 4.5504e-04 - acc: 1.0000 - val_loss: 2.0840 - val_acc: 0.5000\n",
      "\n",
      "Epoch 00034: loss did not improve from 0.00001\n",
      "Epoch 35/100\n",
      "20/20 [==============================] - 2s 94ms/step - loss: 1.5464e-04 - acc: 1.0000 - val_loss: 1.8966 - val_acc: 0.5000\n",
      "\n",
      "Epoch 00035: loss did not improve from 0.00001\n",
      "Epoch 36/100\n",
      "20/20 [==============================] - 2s 91ms/step - loss: 1.2504e-04 - acc: 1.0000 - val_loss: 1.7196 - val_acc: 0.5000\n",
      "\n",
      "Epoch 00036: loss did not improve from 0.00001\n",
      "Epoch 37/100\n",
      "20/20 [==============================] - 2s 96ms/step - loss: 2.0390e-04 - acc: 1.0000 - val_loss: 1.6714 - val_acc: 0.5000\n",
      "\n",
      "Epoch 00037: loss did not improve from 0.00001\n",
      "Epoch 38/100\n",
      "20/20 [==============================] - 2s 88ms/step - loss: 2.0876e-04 - acc: 1.0000 - val_loss: 1.9049 - val_acc: 0.5000\n",
      "\n",
      "Epoch 00038: loss did not improve from 0.00001\n",
      "Epoch 39/100\n",
      "20/20 [==============================] - 2s 97ms/step - loss: 1.0520e-04 - acc: 1.0000 - val_loss: 1.8466 - val_acc: 0.5000\n",
      "\n",
      "Epoch 00039: loss did not improve from 0.00001\n",
      "Epoch 40/100\n",
      "20/20 [==============================] - 2s 92ms/step - loss: 1.5450e-04 - acc: 1.0000 - val_loss: 1.8315 - val_acc: 0.5000\n",
      "\n",
      "Epoch 00040: loss did not improve from 0.00001\n",
      "Epoch 41/100\n",
      "20/20 [==============================] - 2s 94ms/step - loss: 1.1173e-04 - acc: 1.0000 - val_loss: 1.7931 - val_acc: 0.5000\n",
      "\n",
      "Epoch 00041: loss did not improve from 0.00001\n",
      "Epoch 42/100\n",
      "20/20 [==============================] - 2s 92ms/step - loss: 8.6494e-05 - acc: 1.0000 - val_loss: 1.8308 - val_acc: 0.5000\n",
      "\n",
      "Epoch 00042: loss did not improve from 0.00001\n",
      "Epoch 43/100\n",
      "20/20 [==============================] - 2s 90ms/step - loss: 7.1558e-05 - acc: 1.0000 - val_loss: 1.8293 - val_acc: 0.5000\n",
      "\n",
      "Epoch 00043: loss did not improve from 0.00001\n",
      "Epoch 44/100\n",
      "20/20 [==============================] - 2s 93ms/step - loss: 1.0266e-04 - acc: 1.0000 - val_loss: 1.7899 - val_acc: 0.5000\n",
      "\n",
      "Epoch 00044: loss did not improve from 0.00001\n",
      "Epoch 45/100\n",
      "20/20 [==============================] - 2s 92ms/step - loss: 4.4581e-05 - acc: 1.0000 - val_loss: 1.7591 - val_acc: 0.5000\n",
      "\n",
      "Epoch 00045: loss did not improve from 0.00001\n",
      "Epoch 46/100\n",
      "20/20 [==============================] - 2s 89ms/step - loss: 7.0827e-05 - acc: 1.0000 - val_loss: 1.7622 - val_acc: 0.5000\n",
      "\n",
      "Epoch 00046: loss did not improve from 0.00001\n",
      "Epoch 47/100\n",
      "20/20 [==============================] - 2s 94ms/step - loss: 1.2452e-04 - acc: 1.0000 - val_loss: 1.6493 - val_acc: 0.5000\n",
      "\n",
      "Epoch 00047: loss did not improve from 0.00001\n",
      "Epoch 48/100\n",
      "20/20 [==============================] - 2s 91ms/step - loss: 1.1516e-04 - acc: 1.0000 - val_loss: 1.7553 - val_acc: 0.5000\n",
      "\n",
      "Epoch 00048: loss did not improve from 0.00001\n",
      "Epoch 49/100\n",
      "20/20 [==============================] - 2s 91ms/step - loss: 8.1622e-05 - acc: 1.0000 - val_loss: 1.8303 - val_acc: 0.5000\n",
      "\n",
      "Epoch 00049: loss did not improve from 0.00001\n",
      "Epoch 50/100\n",
      "20/20 [==============================] - 2s 91ms/step - loss: 9.2205e-05 - acc: 1.0000 - val_loss: 1.9389 - val_acc: 0.5000\n",
      "\n",
      "Epoch 00050: loss did not improve from 0.00001\n",
      "Epoch 51/100\n",
      "20/20 [==============================] - 2s 91ms/step - loss: 5.3145e-05 - acc: 1.0000 - val_loss: 1.9134 - val_acc: 0.5000\n",
      "\n",
      "Epoch 00051: loss did not improve from 0.00001\n",
      "Epoch 52/100\n",
      "20/20 [==============================] - 2s 92ms/step - loss: 8.2416e-05 - acc: 1.0000 - val_loss: 1.8583 - val_acc: 0.5000\n",
      "\n",
      "Epoch 00052: loss did not improve from 0.00001\n",
      "Epoch 53/100\n",
      "20/20 [==============================] - 2s 91ms/step - loss: 7.0323e-05 - acc: 1.0000 - val_loss: 1.9885 - val_acc: 0.5000\n",
      "\n",
      "Epoch 00053: loss did not improve from 0.00001\n",
      "Epoch 54/100\n",
      "20/20 [==============================] - 2s 92ms/step - loss: 6.9775e-05 - acc: 1.0000 - val_loss: 2.0205 - val_acc: 0.5000\n",
      "\n",
      "Epoch 00054: loss did not improve from 0.00001\n",
      "Epoch 55/100\n",
      "20/20 [==============================] - 2s 90ms/step - loss: 6.3149e-05 - acc: 1.0000 - val_loss: 2.0144 - val_acc: 0.5000\n",
      "\n",
      "Epoch 00055: loss did not improve from 0.00001\n",
      "Epoch 56/100\n",
      "20/20 [==============================] - 2s 93ms/step - loss: 4.0247e-05 - acc: 1.0000 - val_loss: 1.9373 - val_acc: 0.5000\n",
      "\n",
      "Epoch 00056: loss did not improve from 0.00001\n",
      "Epoch 57/100\n",
      "20/20 [==============================] - 2s 91ms/step - loss: 2.9790e-05 - acc: 1.0000 - val_loss: 1.9248 - val_acc: 0.5000\n",
      "\n",
      "Epoch 00057: loss did not improve from 0.00001\n",
      "Epoch 58/100\n",
      "20/20 [==============================] - 2s 92ms/step - loss: 7.3559e-05 - acc: 1.0000 - val_loss: 1.9428 - val_acc: 0.5000\n",
      "\n",
      "Epoch 00058: loss did not improve from 0.00001\n",
      "Epoch 59/100\n",
      "20/20 [==============================] - 2s 96ms/step - loss: 4.7634e-05 - acc: 1.0000 - val_loss: 1.9470 - val_acc: 0.5000\n",
      "\n",
      "Epoch 00059: loss did not improve from 0.00001\n",
      "Epoch 60/100\n",
      "20/20 [==============================] - ETA: 0s - loss: 1.1155e-04 - acc: 1.000 - 2s 94ms/step - loss: 1.0167e-04 - acc: 1.0000 - val_loss: 2.0048 - val_acc: 0.5000\n",
      "\n",
      "Epoch 00060: loss did not improve from 0.00001\n",
      "Epoch 61/100\n",
      "20/20 [==============================] - 2s 99ms/step - loss: 4.2970e-05 - acc: 1.0000 - val_loss: 1.9837 - val_acc: 0.5000\n",
      "\n",
      "Epoch 00061: loss did not improve from 0.00001\n",
      "Epoch 62/100\n",
      "20/20 [==============================] - 2s 91ms/step - loss: 4.9790e-05 - acc: 1.0000 - val_loss: 1.9444 - val_acc: 0.5000\n",
      "\n",
      "Epoch 00062: loss did not improve from 0.00001\n",
      "Epoch 63/100\n",
      "20/20 [==============================] - 2s 90ms/step - loss: 3.2064e-05 - acc: 1.0000 - val_loss: 1.9510 - val_acc: 0.5000\n",
      "\n",
      "Epoch 00063: loss did not improve from 0.00001\n",
      "Epoch 64/100\n",
      "20/20 [==============================] - 2s 90ms/step - loss: 2.6514e-05 - acc: 1.0000 - val_loss: 1.9615 - val_acc: 0.5000\n",
      "\n",
      "Epoch 00064: loss did not improve from 0.00001\n",
      "Epoch 65/100\n",
      "20/20 [==============================] - 2s 93ms/step - loss: 7.5939e-05 - acc: 1.0000 - val_loss: 2.1080 - val_acc: 0.5000\n",
      "\n",
      "Epoch 00065: loss did not improve from 0.00001\n",
      "Epoch 66/100\n",
      "20/20 [==============================] - 2s 92ms/step - loss: 3.7736e-05 - acc: 1.0000 - val_loss: 2.0544 - val_acc: 0.5000\n",
      "\n",
      "Epoch 00066: loss did not improve from 0.00001\n",
      "Epoch 67/100\n",
      "20/20 [==============================] - 2s 93ms/step - loss: 3.3725e-05 - acc: 1.0000 - val_loss: 1.9894 - val_acc: 0.5000\n",
      "\n",
      "Epoch 00067: loss did not improve from 0.00001\n",
      "Epoch 68/100\n",
      "20/20 [==============================] - 2s 93ms/step - loss: 4.2515e-05 - acc: 1.0000 - val_loss: 1.9897 - val_acc: 0.5000\n",
      "\n",
      "Epoch 00068: loss did not improve from 0.00001\n",
      "Epoch 69/100\n",
      "20/20 [==============================] - 2s 89ms/step - loss: 3.8004e-05 - acc: 1.0000 - val_loss: 1.9893 - val_acc: 0.5000\n",
      "\n",
      "Epoch 00069: loss did not improve from 0.00001\n",
      "Epoch 70/100\n",
      "20/20 [==============================] - 2s 93ms/step - loss: 4.7978e-05 - acc: 1.0000 - val_loss: 2.0328 - val_acc: 0.5000\n",
      "\n",
      "Epoch 00070: loss did not improve from 0.00001\n",
      "Epoch 71/100\n",
      "20/20 [==============================] - 2s 90ms/step - loss: 4.4359e-05 - acc: 1.0000 - val_loss: 2.0150 - val_acc: 0.5000\n",
      "\n",
      "Epoch 00071: loss did not improve from 0.00001\n",
      "Epoch 72/100\n",
      "20/20 [==============================] - 2s 97ms/step - loss: 4.1145e-05 - acc: 1.0000 - val_loss: 2.0262 - val_acc: 0.5000\n",
      "\n",
      "Epoch 00072: loss did not improve from 0.00001\n",
      "Epoch 73/100\n",
      "20/20 [==============================] - 2s 91ms/step - loss: 2.8654e-05 - acc: 1.0000 - val_loss: 2.0668 - val_acc: 0.5000\n",
      "\n",
      "Epoch 00073: loss did not improve from 0.00001\n",
      "Epoch 74/100\n",
      "20/20 [==============================] - 2s 89ms/step - loss: 5.4598e-05 - acc: 1.0000 - val_loss: 2.0816 - val_acc: 0.5000\n",
      "\n",
      "Epoch 00074: loss did not improve from 0.00001\n",
      "Epoch 75/100\n",
      "20/20 [==============================] - 2s 97ms/step - loss: 1.0781e-04 - acc: 1.0000 - val_loss: 2.3157 - val_acc: 0.5000\n",
      "\n",
      "Epoch 00075: loss did not improve from 0.00001\n",
      "Epoch 76/100\n",
      "20/20 [==============================] - 2s 85ms/step - loss: 5.6702e-05 - acc: 1.0000 - val_loss: 2.5033 - val_acc: 0.5000\n",
      "\n",
      "Epoch 00076: loss did not improve from 0.00001\n",
      "Epoch 77/100\n",
      "20/20 [==============================] - 2s 90ms/step - loss: 2.0008e-05 - acc: 1.0000 - val_loss: 2.3581 - val_acc: 0.5000\n",
      "\n",
      "Epoch 00077: loss did not improve from 0.00001\n",
      "Epoch 78/100\n",
      "20/20 [==============================] - 2s 89ms/step - loss: 3.1622e-05 - acc: 1.0000 - val_loss: 2.2515 - val_acc: 0.5000\n",
      "\n",
      "Epoch 00078: loss did not improve from 0.00001\n",
      "Epoch 79/100\n",
      "20/20 [==============================] - 2s 95ms/step - loss: 3.8231e-05 - acc: 1.0000 - val_loss: 2.1898 - val_acc: 0.5000\n",
      "\n",
      "Epoch 00079: loss did not improve from 0.00001\n",
      "Epoch 80/100\n",
      "20/20 [==============================] - 2s 90ms/step - loss: 2.7571e-05 - acc: 1.0000 - val_loss: 2.1621 - val_acc: 0.5000\n",
      "\n",
      "Epoch 00080: loss did not improve from 0.00001\n",
      "Epoch 81/100\n",
      "20/20 [==============================] - 2s 90ms/step - loss: 4.2412e-05 - acc: 1.0000 - val_loss: 2.2531 - val_acc: 0.5000\n",
      "\n",
      "Epoch 00081: loss did not improve from 0.00001\n",
      "Epoch 82/100\n",
      "20/20 [==============================] - 2s 90ms/step - loss: 2.6274e-05 - acc: 1.0000 - val_loss: 2.2325 - val_acc: 0.5000\n",
      "\n",
      "Epoch 00082: loss did not improve from 0.00001\n",
      "Epoch 83/100\n",
      "20/20 [==============================] - 2s 92ms/step - loss: 2.5051e-05 - acc: 1.0000 - val_loss: 2.2171 - val_acc: 0.5000\n",
      "\n",
      "Epoch 00083: loss did not improve from 0.00001\n",
      "Epoch 84/100\n",
      "20/20 [==============================] - 2s 92ms/step - loss: 1.7507e-05 - acc: 1.0000 - val_loss: 2.1763 - val_acc: 0.5000\n",
      "\n",
      "Epoch 00084: loss did not improve from 0.00001\n",
      "Epoch 85/100\n",
      "20/20 [==============================] - 2s 91ms/step - loss: 4.9480e-05 - acc: 1.0000 - val_loss: 2.2579 - val_acc: 0.5000\n",
      "\n",
      "Epoch 00085: loss did not improve from 0.00001\n",
      "Epoch 86/100\n",
      "20/20 [==============================] - 2s 93ms/step - loss: 2.9097e-05 - acc: 1.0000 - val_loss: 2.2297 - val_acc: 0.5000\n",
      "\n",
      "Epoch 00086: loss did not improve from 0.00001\n",
      "Epoch 87/100\n"
     ]
    },
    {
     "name": "stdout",
     "output_type": "stream",
     "text": [
      "20/20 [==============================] - 2s 90ms/step - loss: 4.4032e-05 - acc: 1.0000 - val_loss: 2.1770 - val_acc: 0.5000\n",
      "\n",
      "Epoch 00087: loss did not improve from 0.00001\n",
      "Epoch 88/100\n",
      "20/20 [==============================] - 2s 89ms/step - loss: 2.0312e-05 - acc: 1.0000 - val_loss: 2.1599 - val_acc: 0.5000\n",
      "\n",
      "Epoch 00088: loss did not improve from 0.00001\n",
      "Epoch 89/100\n",
      "20/20 [==============================] - 2s 94ms/step - loss: 8.8983e-05 - acc: 1.0000 - val_loss: 2.2835 - val_acc: 0.5000\n",
      "\n",
      "Epoch 00089: loss did not improve from 0.00001\n",
      "Epoch 90/100\n",
      "20/20 [==============================] - 2s 89ms/step - loss: 8.5846e-05 - acc: 1.0000 - val_loss: 2.2905 - val_acc: 0.5000\n",
      "\n",
      "Epoch 00090: loss did not improve from 0.00001\n",
      "Epoch 91/100\n",
      "20/20 [==============================] - 2s 88ms/step - loss: 1.9480e-05 - acc: 1.0000 - val_loss: 1.9850 - val_acc: 0.5000\n",
      "\n",
      "Epoch 00091: loss did not improve from 0.00001\n",
      "Epoch 92/100\n",
      "20/20 [==============================] - 2s 92ms/step - loss: 1.8947e-05 - acc: 1.0000 - val_loss: 1.9409 - val_acc: 0.5000\n",
      "\n",
      "Epoch 00092: loss did not improve from 0.00001\n",
      "Epoch 93/100\n",
      "20/20 [==============================] - 2s 90ms/step - loss: 2.5343e-05 - acc: 1.0000 - val_loss: 2.0170 - val_acc: 0.5000\n",
      "\n",
      "Epoch 00093: loss did not improve from 0.00001\n",
      "Epoch 94/100\n",
      "20/20 [==============================] - 2s 92ms/step - loss: 4.7355e-05 - acc: 1.0000 - val_loss: 2.1276 - val_acc: 0.5000\n",
      "\n",
      "Epoch 00094: loss did not improve from 0.00001\n",
      "Epoch 95/100\n",
      "20/20 [==============================] - 2s 91ms/step - loss: 1.2355e-05 - acc: 1.0000 - val_loss: 2.2200 - val_acc: 0.5000\n",
      "\n",
      "Epoch 00095: loss improved from 0.00001 to 0.00001, saving model to dataset/Modi_vs_Pappu/Save/weights-improvement-95- 0.0000.hdf5\n",
      "Epoch 96/100\n",
      "20/20 [==============================] - 2s 96ms/step - loss: 2.5658e-05 - acc: 1.0000 - val_loss: 2.2487 - val_acc: 0.5000\n",
      "\n",
      "Epoch 00096: loss did not improve from 0.00001\n",
      "Epoch 97/100\n",
      "20/20 [==============================] - 2s 111ms/step - loss: 1.3453e-05 - acc: 1.0000 - val_loss: 2.2610 - val_acc: 0.5000\n",
      "\n",
      "Epoch 00097: loss did not improve from 0.00001\n",
      "Epoch 98/100\n",
      "20/20 [==============================] - 2s 94ms/step - loss: 3.7435e-05 - acc: 1.0000 - val_loss: 2.2036 - val_acc: 0.5000\n",
      "\n",
      "Epoch 00098: loss did not improve from 0.00001\n",
      "Epoch 99/100\n",
      "20/20 [==============================] - 2s 92ms/step - loss: 2.4975e-05 - acc: 1.0000 - val_loss: 2.1115 - val_acc: 0.5000\n",
      "\n",
      "Epoch 00099: loss did not improve from 0.00001\n",
      "Epoch 100/100\n",
      "20/20 [==============================] - 2s 92ms/step - loss: 8.4389e-06 - acc: 1.0000 - val_loss: 2.2669 - val_acc: 0.5000\n",
      "\n",
      "Epoch 00100: loss improved from 0.00001 to 0.00001, saving model to dataset/Modi_vs_Pappu/Save/weights-improvement-100- 0.0000.hdf5\n"
     ]
    },
    {
     "data": {
      "text/plain": [
       "<keras.callbacks.History at 0x22862736160>"
      ]
     },
     "execution_count": 34,
     "metadata": {},
     "output_type": "execute_result"
    }
   ],
   "source": [
    "classifier.fit_generator(training_set,\n",
    "                         steps_per_epoch=20,\n",
    "                         epochs=100,\n",
    "                         validation_data=testing_set,\n",
    "                         validation_steps=4,\n",
    "                         callbacks=callbacks_list\n",
    "                        )"
   ]
  },
  {
   "cell_type": "markdown",
   "metadata": {},
   "source": [
    "**testing our CNN model**"
   ]
  },
  {
   "cell_type": "code",
   "execution_count": 53,
   "metadata": {},
   "outputs": [],
   "source": [
    "# transform your image to numbers(a 3d array)\n",
    "from keras.preprocessing.image import image\n",
    "\n"
   ]
  },
  {
   "cell_type": "code",
   "execution_count": 54,
   "metadata": {},
   "outputs": [
    {
     "data": {
      "text/plain": [
       "{'modi': 0, 'pappu': 1}"
      ]
     },
     "execution_count": 54,
     "metadata": {},
     "output_type": "execute_result"
    }
   ],
   "source": [
    "training_set.class_indices"
   ]
  },
  {
   "cell_type": "code",
   "execution_count": 56,
   "metadata": {},
   "outputs": [],
   "source": [
    "#let see on the other image\n",
    "def test_single_prediction(filename):\n",
    "    \n",
    "    test_image=image.load_img(filename,\n",
    "                          target_size=(64,64)\n",
    "                         )\n",
    "    test_image=image.img_to_array(test_image)\n",
    "    test_image= np.expand_dims(test_image,axis=0)\n",
    "    result= classifier.predict(test_image)\n",
    "    if result[0][0]==1:\n",
    "        prediction='Pappu'\n",
    "    else:\n",
    "        prediction=\"Modi\"\n",
    "    return prediction\n",
    "    "
   ]
  },
  {
   "cell_type": "code",
   "execution_count": 57,
   "metadata": {},
   "outputs": [
    {
     "data": {
      "text/plain": [
       "'Pappu'"
      ]
     },
     "execution_count": 57,
     "metadata": {},
     "output_type": "execute_result"
    }
   ],
   "source": [
    "test_single_prediction(\"dataset/Modi_vs_Pappu/Single/images (1).jpg\")"
   ]
  },
  {
   "cell_type": "code",
   "execution_count": 61,
   "metadata": {},
   "outputs": [
    {
     "data": {
      "image/jpeg": "[encoded data removed]",
      "text/plain": [
       "<IPython.core.display.Image object>"
      ]
     },
     "execution_count": 61,
     "metadata": {},
     "output_type": "execute_result"
    }
   ],
   "source": [
    "from IPython.display import Image\n",
    "Image(filename='dataset/Modi_vs_Pappu/Single/images (1).jpg')"
   ]
  },
  {
   "cell_type": "code",
   "execution_count": 58,
   "metadata": {},
   "outputs": [
    {
     "data": {
      "text/plain": [
       "'Modi'"
      ]
     },
     "execution_count": 58,
     "metadata": {},
     "output_type": "execute_result"
    }
   ],
   "source": [
    "\n",
    "test_single_prediction(\"dataset/Modi_vs_Pappu/Single/images.jpg\")\n"
   ]
  },
  {
   "cell_type": "code",
   "execution_count": 62,
   "metadata": {},
   "outputs": [
    {
     "data": {
      "image/jpeg": "[encoded data removed]",
      "text/plain": [
       "<IPython.core.display.Image object>"
      ]
     },
     "execution_count": 62,
     "metadata": {},
     "output_type": "execute_result"
    }
   ],
   "source": [
    "Image(filename='dataset/Modi_vs_Pappu/Single/images.jpg')"
   ]
  },
  {
   "cell_type": "code",
   "execution_count": null,
   "metadata": {},
   "outputs": [],
   "source": []
  }
 ],
 "metadata": {
  "kernelspec": {
   "display_name": "Python 3",
   "language": "python",
   "name": "python3"
  },
  "language_info": {
   "codemirror_mode": {
    "name": "ipython",
    "version": 3
   },
   "file_extension": ".py",
   "mimetype": "text/x-python",
   "name": "python",
   "nbconvert_exporter": "python",
   "pygments_lexer": "ipython3",
   "version": "3.7.3"
  }
 },
 "nbformat": 4,
 "nbformat_minor": 2
}
