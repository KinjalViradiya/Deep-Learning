{
 "cells": [
  {
   "cell_type": "markdown",
   "metadata": {},
   "source": [
    "# Cat vs Dog recognizer"
   ]
  },
  {
   "cell_type": "code",
   "execution_count": 12,
   "metadata": {},
   "outputs": [],
   "source": [
    "from keras.models import Sequential\n",
    "from keras.layers import Dense\n",
    "from keras.layers import Conv2D,MaxPool2D,Flatten\n",
    "import numpy as np\n",
    "from keras.preprocessing.image import ImageDataGenerator\n",
    "from keras.preprocessing import image"
   ]
  },
  {
   "cell_type": "code",
   "execution_count": 3,
   "metadata": {},
   "outputs": [
    {
     "ename": "SyntaxError",
     "evalue": "invalid syntax (<ipython-input-3-c106f074e58a>, line 1)",
     "output_type": "error",
     "traceback": [
      "\u001b[1;36m  File \u001b[1;32m\"<ipython-input-3-c106f074e58a>\"\u001b[1;36m, line \u001b[1;32m1\u001b[0m\n\u001b[1;33m    **building the CNN**\u001b[0m\n\u001b[1;37m     ^\u001b[0m\n\u001b[1;31mSyntaxError\u001b[0m\u001b[1;31m:\u001b[0m invalid syntax\n"
     ]
    }
   ],
   "source": [
    "**building the CNN**"
   ]
  },
  {
   "cell_type": "code",
   "execution_count": 4,
   "metadata": {},
   "outputs": [
    {
     "name": "stderr",
     "output_type": "stream",
     "text": [
      "WARNING: Logging before flag parsing goes to stderr.\n",
      "W0914 23:09:31.839112  7668 deprecation_wrapper.py:119] From C:\\Users\\KINJAL\\.conda\\envs\\py3\\lib\\site-packages\\keras\\backend\\tensorflow_backend.py:74: The name tf.get_default_graph is deprecated. Please use tf.compat.v1.get_default_graph instead.\n",
      "\n",
      "W0914 23:09:31.863727  7668 deprecation_wrapper.py:119] From C:\\Users\\KINJAL\\.conda\\envs\\py3\\lib\\site-packages\\keras\\backend\\tensorflow_backend.py:517: The name tf.placeholder is deprecated. Please use tf.compat.v1.placeholder instead.\n",
      "\n",
      "W0914 23:09:31.869274  7668 deprecation_wrapper.py:119] From C:\\Users\\KINJAL\\.conda\\envs\\py3\\lib\\site-packages\\keras\\backend\\tensorflow_backend.py:4138: The name tf.random_uniform is deprecated. Please use tf.random.uniform instead.\n",
      "\n"
     ]
    }
   ],
   "source": [
    "classifier= Sequential()\n",
    "# convolution layer-32 feature detectors of 3X3 shape plus a rectifier on top of our convolved feature map\n",
    "classifier.add(Conv2D(32,(3,3),input_shape=(64,64,3),activation='relu'))"
   ]
  },
  {
   "cell_type": "code",
   "execution_count": 5,
   "metadata": {},
   "outputs": [
    {
     "name": "stderr",
     "output_type": "stream",
     "text": [
      "W0914 23:09:59.969118  7668 deprecation_wrapper.py:119] From C:\\Users\\KINJAL\\.conda\\envs\\py3\\lib\\site-packages\\keras\\backend\\tensorflow_backend.py:3976: The name tf.nn.max_pool is deprecated. Please use tf.nn.max_pool2d instead.\n",
      "\n"
     ]
    }
   ],
   "source": [
    "# max pooling of 2x2 shape\n",
    "classifier.add(MaxPool2D(pool_size=(2,2)))\n",
    "\n",
    "# another convolution layer\n",
    "classifier.add(Conv2D(32,(3,3),activation='relu'))\n",
    "\n",
    "# max pooling of 2x2 shape\n",
    "classifier.add(MaxPool2D(pool_size=(2,2)))\n",
    "\n",
    "#Flattening layer\n",
    "classifier.add(Flatten())\n",
    "\n",
    "# fully connected layer\n",
    "classifier.add(Dense(units=128,activation='relu'))\n",
    "\n",
    "# output layer\n",
    "classifier.add(Dense(units=1,activation='sigmoid'))"
   ]
  },
  {
   "cell_type": "markdown",
   "metadata": {},
   "source": [
    "**compiling the CNN**"
   ]
  },
  {
   "cell_type": "code",
   "execution_count": 6,
   "metadata": {},
   "outputs": [
    {
     "name": "stderr",
     "output_type": "stream",
     "text": [
      "W0914 23:10:21.369963  7668 deprecation_wrapper.py:119] From C:\\Users\\KINJAL\\.conda\\envs\\py3\\lib\\site-packages\\keras\\optimizers.py:790: The name tf.train.Optimizer is deprecated. Please use tf.compat.v1.train.Optimizer instead.\n",
      "\n",
      "W0914 23:10:21.412071  7668 deprecation_wrapper.py:119] From C:\\Users\\KINJAL\\.conda\\envs\\py3\\lib\\site-packages\\keras\\backend\\tensorflow_backend.py:3376: The name tf.log is deprecated. Please use tf.math.log instead.\n",
      "\n",
      "W0914 23:10:21.420847  7668 deprecation.py:323] From C:\\Users\\KINJAL\\.conda\\envs\\py3\\lib\\site-packages\\tensorflow\\python\\ops\\nn_impl.py:180: add_dispatch_support.<locals>.wrapper (from tensorflow.python.ops.array_ops) is deprecated and will be removed in a future version.\n",
      "Instructions for updating:\n",
      "Use tf.where in 2.0, which has the same broadcast rule as np.where\n"
     ]
    }
   ],
   "source": [
    "classifier.compile(optimizer='adam',loss='binary_crossentropy',metrics=['accuracy'])"
   ]
  },
  {
   "cell_type": "code",
   "execution_count": 9,
   "metadata": {},
   "outputs": [
    {
     "name": "stdout",
     "output_type": "stream",
     "text": [
      "Found 8000 images belonging to 2 classes.\n",
      "Found 2000 images belonging to 2 classes.\n"
     ]
    }
   ],
   "source": [
    "train_datagen=ImageDataGenerator(rescale=1./125,shear_range=0.2,zoom_range=0.2,horizontal_flip=True)\n",
    "test_datagen=ImageDataGenerator(rescale=1./255)\n",
    "training_set=train_datagen.flow_from_directory(\"dataset/Cat_vs_Dog/training_set\",\n",
    "                                                target_size=(64,64),\n",
    "                                                 batch_size=32,\n",
    "                                                 class_mode='binary'   \n",
    "                                                )\n",
    "testing_set=test_datagen.flow_from_directory(\"dataset/Cat_vs_Dog/test_set\",\n",
    "                                            target_size=(64,64),\n",
    "                                                 batch_size=32,\n",
    "                                                 class_mode='binary'   \n",
    "                                                )"
   ]
  },
  {
   "cell_type": "code",
   "execution_count": 10,
   "metadata": {},
   "outputs": [],
   "source": [
    "\n",
    "from keras.callbacks import ModelCheckpoint\n",
    "filepath=\"dataset/Cat_vs_Dog/Save/weights-improvement-{epoch:02d}-{loss: .4f}.hdf5\"\n",
    "checkpoint=ModelCheckpoint(filepath,monitor='loss',verbose=1,save_best_only=True,mode='min')\n",
    "callbacks_list=[checkpoint]"
   ]
  },
  {
   "cell_type": "markdown",
   "metadata": {},
   "source": [
    "**Training CNN**"
   ]
  },
  {
   "cell_type": "code",
   "execution_count": null,
   "metadata": {},
   "outputs": [
    {
     "name": "stderr",
     "output_type": "stream",
     "text": [
      "W0914 23:34:25.982646  7668 deprecation_wrapper.py:119] From C:\\Users\\KINJAL\\.conda\\envs\\py3\\lib\\site-packages\\keras\\backend\\tensorflow_backend.py:986: The name tf.assign_add is deprecated. Please use tf.compat.v1.assign_add instead.\n",
      "\n"
     ]
    },
    {
     "name": "stdout",
     "output_type": "stream",
     "text": [
      "Epoch 1/500\n",
      "8000/8000 [==============================] - 1134s 142ms/step - loss: 0.3722 - acc: 0.8247 - val_loss: 0.6301 - val_acc: 0.7594\n",
      "\n",
      "Epoch 00001: loss improved from inf to 0.37220, saving model to dataset/Cat_vs_Dog/Save/weights-improvement-01- 0.3722.hdf5\n",
      "Epoch 2/500\n",
      "8000/8000 [==============================] - 852s 106ms/step - loss: 0.1309 - acc: 0.9490 - val_loss: 0.8943 - val_acc: 0.7612\n",
      "\n",
      "Epoch 00002: loss improved from 0.37220 to 0.13091, saving model to dataset/Cat_vs_Dog/Save/weights-improvement-02- 0.1309.hdf5\n",
      "Epoch 3/500\n",
      "8000/8000 [==============================] - 856s 107ms/step - loss: 0.0695 - acc: 0.9749 - val_loss: 0.9841 - val_acc: 0.7586\n",
      "\n",
      "Epoch 00003: loss improved from 0.13091 to 0.06946, saving model to dataset/Cat_vs_Dog/Save/weights-improvement-03- 0.0695.hdf5\n",
      "Epoch 4/500\n",
      "8000/8000 [==============================] - 1229s 154ms/step - loss: 0.0485 - acc: 0.9830 - val_loss: 1.0274 - val_acc: 0.7595\n",
      "\n",
      "Epoch 00004: loss improved from 0.06946 to 0.04854, saving model to dataset/Cat_vs_Dog/Save/weights-improvement-04- 0.0485.hdf5\n",
      "Epoch 5/500\n",
      "8000/8000 [==============================] - 1296s 162ms/step - loss: 0.0380 - acc: 0.9869 - val_loss: 1.5310 - val_acc: 0.7269\n",
      "\n",
      "Epoch 00005: loss improved from 0.04854 to 0.03805, saving model to dataset/Cat_vs_Dog/Save/weights-improvement-05- 0.0380.hdf5\n",
      "Epoch 6/500\n",
      "8000/8000 [==============================] - 1305s 163ms/step - loss: 0.0319 - acc: 0.9891 - val_loss: 1.4287 - val_acc: 0.7431\n",
      "\n",
      "Epoch 00006: loss improved from 0.03805 to 0.03188, saving model to dataset/Cat_vs_Dog/Save/weights-improvement-06- 0.0319.hdf5\n",
      "Epoch 7/500\n",
      "8000/8000 [==============================] - 1311s 164ms/step - loss: 0.0270 - acc: 0.9908 - val_loss: 1.2376 - val_acc: 0.7792\n",
      "\n",
      "Epoch 00007: loss improved from 0.03188 to 0.02698, saving model to dataset/Cat_vs_Dog/Save/weights-improvement-07- 0.0270.hdf5\n",
      "Epoch 8/500\n",
      "8000/8000 [==============================] - 1323s 165ms/step - loss: 0.0244 - acc: 0.9916 - val_loss: 1.3260 - val_acc: 0.7595\n",
      "\n",
      "Epoch 00008: loss improved from 0.02698 to 0.02444, saving model to dataset/Cat_vs_Dog/Save/weights-improvement-08- 0.0244.hdf5\n",
      "Epoch 9/500\n",
      "8000/8000 [==============================] - 1333s 167ms/step - loss: 0.0215 - acc: 0.9930 - val_loss: 1.3867 - val_acc: 0.7493\n",
      "\n",
      "Epoch 00009: loss improved from 0.02444 to 0.02149, saving model to dataset/Cat_vs_Dog/Save/weights-improvement-09- 0.0215.hdf5\n",
      "Epoch 10/500\n",
      "8000/8000 [==============================] - 1345s 168ms/step - loss: 0.0199 - acc: 0.9933 - val_loss: 1.2546 - val_acc: 0.7604\n",
      "\n",
      "Epoch 00010: loss improved from 0.02149 to 0.01990, saving model to dataset/Cat_vs_Dog/Save/weights-improvement-10- 0.0199.hdf5\n",
      "Epoch 11/500\n",
      "8000/8000 [==============================] - 1348s 168ms/step - loss: 0.0185 - acc: 0.9937 - val_loss: 1.4855 - val_acc: 0.7622\n",
      "\n",
      "Epoch 00011: loss improved from 0.01990 to 0.01845, saving model to dataset/Cat_vs_Dog/Save/weights-improvement-11- 0.0185.hdf5\n",
      "Epoch 12/500\n",
      "8000/8000 [==============================] - 21568s 3s/step - loss: 0.0169 - acc: 0.9945 - val_loss: 1.5210 - val_acc: 0.7565\n",
      "\n",
      "Epoch 00012: loss improved from 0.01845 to 0.01692, saving model to dataset/Cat_vs_Dog/Save/weights-improvement-12- 0.0169.hdf5\n",
      "Epoch 13/500\n",
      "8000/8000 [==============================] - 1322s 165ms/step - loss: 0.0162 - acc: 0.9949 - val_loss: 1.6993 - val_acc: 0.7504\n",
      "\n",
      "Epoch 00013: loss improved from 0.01692 to 0.01618, saving model to dataset/Cat_vs_Dog/Save/weights-improvement-13- 0.0162.hdf5\n",
      "Epoch 14/500\n",
      "8000/8000 [==============================] - 1369s 171ms/step - loss: 0.0143 - acc: 0.9954 - val_loss: 1.7629 - val_acc: 0.7477\n",
      "\n",
      "Epoch 00014: loss improved from 0.01618 to 0.01429, saving model to dataset/Cat_vs_Dog/Save/weights-improvement-14- 0.0143.hdf5\n",
      "Epoch 15/500\n",
      "8000/8000 [==============================] - 1375s 172ms/step - loss: 0.0137 - acc: 0.9956 - val_loss: 1.6490 - val_acc: 0.7546\n",
      "\n",
      "Epoch 00015: loss improved from 0.01429 to 0.01374, saving model to dataset/Cat_vs_Dog/Save/weights-improvement-15- 0.0137.hdf5\n",
      "Epoch 16/500\n",
      "8000/8000 [==============================] - 1309s 164ms/step - loss: 0.0124 - acc: 0.9960 - val_loss: 1.6840 - val_acc: 0.7579\n",
      "\n",
      "Epoch 00016: loss improved from 0.01374 to 0.01239, saving model to dataset/Cat_vs_Dog/Save/weights-improvement-16- 0.0124.hdf5\n",
      "Epoch 17/500\n",
      "8000/8000 [==============================] - 1102s 138ms/step - loss: 0.0129 - acc: 0.9959 - val_loss: 1.6116 - val_acc: 0.7668\n",
      "\n",
      "Epoch 00017: loss did not improve from 0.01239\n",
      "Epoch 18/500\n",
      "8000/8000 [==============================] - 1128s 141ms/step - loss: 0.0119 - acc: 0.9961 - val_loss: 1.6091 - val_acc: 0.7575\n",
      "\n",
      "Epoch 00018: loss improved from 0.01239 to 0.01195, saving model to dataset/Cat_vs_Dog/Save/weights-improvement-18- 0.0119.hdf5\n",
      "Epoch 19/500\n",
      "8000/8000 [==============================] - 1142s 143ms/step - loss: 0.0114 - acc: 0.9965 - val_loss: 1.8205 - val_acc: 0.7520\n",
      "\n",
      "Epoch 00019: loss improved from 0.01195 to 0.01145, saving model to dataset/Cat_vs_Dog/Save/weights-improvement-19- 0.0114.hdf5\n",
      "Epoch 20/500\n",
      "8000/8000 [==============================] - 1030s 129ms/step - loss: 0.0113 - acc: 0.9966 - val_loss: 1.4992 - val_acc: 0.7738\n",
      "\n",
      "Epoch 00020: loss improved from 0.01145 to 0.01130, saving model to dataset/Cat_vs_Dog/Save/weights-improvement-20- 0.0113.hdf5\n",
      "Epoch 21/500\n",
      "6961/8000 [=========================>....] - ETA: 20:12 - loss: 0.0101 - acc: 0.9967"
     ]
    }
   ],
   "source": [
    "classifier.fit_generator(training_set,\n",
    "                         steps_per_epoch=8000,\n",
    "                         epochs=500,\n",
    "                         validation_data=testing_set,\n",
    "                         validation_steps=2000,\n",
    "                         callbacks=callbacks_list\n",
    "                        )"
   ]
  },
  {
   "cell_type": "code",
   "execution_count": null,
   "metadata": {},
   "outputs": [],
   "source": [
    " #lets test our model\n",
    "\n",
    "def test_single_prediction(filename):\n",
    "    test_image =  image.load_img(filename, target_size = (64, 64))\n",
    "    # converting to a 3D array\n",
    "    test_image = image.img_to_array(test_image)\n",
    "    test_image = np.expand_dims(test_image, axis=0)\n",
    "    result = classifier.predict(test_image)\n",
    "    \n",
    "    if result[0][0] == 1:\n",
    "        prediction = \"Cat\"\n",
    "    else:\n",
    "        prediction = \"Dog\"\n",
    "        \n",
    "    return prediction"
   ]
  }
 ],
 "metadata": {
  "kernelspec": {
   "display_name": "Python 3",
   "language": "python",
   "name": "python3"
  },
  "language_info": {
   "codemirror_mode": {
    "name": "ipython",
    "version": 3
   },
   "file_extension": ".py",
   "mimetype": "text/x-python",
   "name": "python",
   "nbconvert_exporter": "python",
   "pygments_lexer": "ipython3",
   "version": "3.7.3"
  }
 },
 "nbformat": 4,
 "nbformat_minor": 2
}
